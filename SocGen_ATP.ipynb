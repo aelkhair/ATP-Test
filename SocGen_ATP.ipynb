{
 "cells": [
  {
   "cell_type": "code",
   "execution_count": 1,
   "metadata": {},
   "outputs": [
    {
     "name": "stdout",
     "output_type": "stream",
     "text": [
      "Notebook commencé à : 2019-08-26 08:58:46.709940\n"
     ]
    }
   ],
   "source": [
    "from datetime import datetime\n",
    "print('Notebook commencé à :', datetime.now())"
   ]
  },
  {
   "cell_type": "markdown",
   "metadata": {},
   "source": [
    "## Librairies"
   ]
  },
  {
   "cell_type": "code",
   "execution_count": 2,
   "metadata": {},
   "outputs": [],
   "source": [
    "import pandas as pd\n",
    "import seaborn as sns\n",
    "import matplotlib.pyplot as plt\n",
    "\n",
    "from sklearn import preprocessing\n",
    "from sklearn.model_selection import train_test_split\n",
    "from sklearn.metrics import accuracy_score\n",
    "from sklearn.model_selection import GridSearchCV\n",
    "from sklearn.linear_model import LogisticRegression\n",
    "from sklearn.naive_bayes import GaussianNB\n",
    "from sklearn.ensemble import RandomForestClassifier, GradientBoostingClassifier, VotingClassifier \n",
    "from sklearn import svm\n",
    "from xgboost import XGBClassifier\n",
    "\n",
    "import missingno\n",
    "\n",
    "import warnings\n",
    "warnings.filterwarnings(\"ignore\")"
   ]
  },
  {
   "cell_type": "markdown",
   "metadata": {},
   "source": [
    "## Exploration des données"
   ]
  },
  {
   "cell_type": "code",
   "execution_count": 19,
   "metadata": {},
   "outputs": [
    {
     "name": "stdout",
     "output_type": "stream",
     "text": [
      "Nmbr de lignes = 169690 / Nmbr de colonnes = 49\n"
     ]
    },
    {
     "data": {
      "text/html": [
       "<div>\n",
       "<style scoped>\n",
       "    .dataframe tbody tr th:only-of-type {\n",
       "        vertical-align: middle;\n",
       "    }\n",
       "\n",
       "    .dataframe tbody tr th {\n",
       "        vertical-align: top;\n",
       "    }\n",
       "\n",
       "    .dataframe thead th {\n",
       "        text-align: right;\n",
       "    }\n",
       "</style>\n",
       "<table border=\"1\" class=\"dataframe\">\n",
       "  <thead>\n",
       "    <tr style=\"text-align: right;\">\n",
       "      <th></th>\n",
       "      <th>best_of</th>\n",
       "      <th>draw_size</th>\n",
       "      <th>l_1stIn</th>\n",
       "      <th>l_1stWon</th>\n",
       "      <th>l_2ndWon</th>\n",
       "      <th>l_SvGms</th>\n",
       "      <th>l_ace</th>\n",
       "      <th>l_bpFaced</th>\n",
       "      <th>l_bpSaved</th>\n",
       "      <th>l_df</th>\n",
       "      <th>...</th>\n",
       "      <th>winner_age</th>\n",
       "      <th>winner_entry</th>\n",
       "      <th>winner_hand</th>\n",
       "      <th>winner_ht</th>\n",
       "      <th>winner_id</th>\n",
       "      <th>winner_ioc</th>\n",
       "      <th>winner_name</th>\n",
       "      <th>winner_rank</th>\n",
       "      <th>winner_rank_points</th>\n",
       "      <th>winner_seed</th>\n",
       "    </tr>\n",
       "  </thead>\n",
       "  <tbody>\n",
       "    <tr>\n",
       "      <td>169685</td>\n",
       "      <td>3</td>\n",
       "      <td>NaN</td>\n",
       "      <td>54.0</td>\n",
       "      <td>43.0</td>\n",
       "      <td>16.0</td>\n",
       "      <td>15.0</td>\n",
       "      <td>13.0</td>\n",
       "      <td>5.0</td>\n",
       "      <td>3.0</td>\n",
       "      <td>1.0</td>\n",
       "      <td>...</td>\n",
       "      <td>22.74</td>\n",
       "      <td>NaN</td>\n",
       "      <td>R</td>\n",
       "      <td>NaN</td>\n",
       "      <td>106426</td>\n",
       "      <td>CHI</td>\n",
       "      <td>Christian Garin</td>\n",
       "      <td>92.0</td>\n",
       "      <td>620.0</td>\n",
       "      <td>NaN</td>\n",
       "    </tr>\n",
       "    <tr>\n",
       "      <td>169686</td>\n",
       "      <td>3</td>\n",
       "      <td>NaN</td>\n",
       "      <td>23.0</td>\n",
       "      <td>12.0</td>\n",
       "      <td>5.0</td>\n",
       "      <td>7.0</td>\n",
       "      <td>0.0</td>\n",
       "      <td>8.0</td>\n",
       "      <td>3.0</td>\n",
       "      <td>2.0</td>\n",
       "      <td>...</td>\n",
       "      <td>20.18</td>\n",
       "      <td>NaN</td>\n",
       "      <td>R</td>\n",
       "      <td>NaN</td>\n",
       "      <td>134770</td>\n",
       "      <td>NOR</td>\n",
       "      <td>Casper Ruud</td>\n",
       "      <td>108.0</td>\n",
       "      <td>527.0</td>\n",
       "      <td>NaN</td>\n",
       "    </tr>\n",
       "    <tr>\n",
       "      <td>169687</td>\n",
       "      <td>3</td>\n",
       "      <td>NaN</td>\n",
       "      <td>56.0</td>\n",
       "      <td>39.0</td>\n",
       "      <td>13.0</td>\n",
       "      <td>12.0</td>\n",
       "      <td>5.0</td>\n",
       "      <td>5.0</td>\n",
       "      <td>3.0</td>\n",
       "      <td>1.0</td>\n",
       "      <td>...</td>\n",
       "      <td>28.78</td>\n",
       "      <td>NaN</td>\n",
       "      <td>L</td>\n",
       "      <td>185.0</td>\n",
       "      <td>105550</td>\n",
       "      <td>ARG</td>\n",
       "      <td>Guido Pella</td>\n",
       "      <td>48.0</td>\n",
       "      <td>975.0</td>\n",
       "      <td>3.0</td>\n",
       "    </tr>\n",
       "    <tr>\n",
       "      <td>169688</td>\n",
       "      <td>3</td>\n",
       "      <td>NaN</td>\n",
       "      <td>34.0</td>\n",
       "      <td>24.0</td>\n",
       "      <td>11.0</td>\n",
       "      <td>10.0</td>\n",
       "      <td>5.0</td>\n",
       "      <td>6.0</td>\n",
       "      <td>3.0</td>\n",
       "      <td>0.0</td>\n",
       "      <td>...</td>\n",
       "      <td>22.74</td>\n",
       "      <td>NaN</td>\n",
       "      <td>R</td>\n",
       "      <td>NaN</td>\n",
       "      <td>106426</td>\n",
       "      <td>CHI</td>\n",
       "      <td>Christian Garin</td>\n",
       "      <td>92.0</td>\n",
       "      <td>620.0</td>\n",
       "      <td>NaN</td>\n",
       "    </tr>\n",
       "    <tr>\n",
       "      <td>169689</td>\n",
       "      <td>3</td>\n",
       "      <td>NaN</td>\n",
       "      <td>35.0</td>\n",
       "      <td>26.0</td>\n",
       "      <td>9.0</td>\n",
       "      <td>11.0</td>\n",
       "      <td>5.0</td>\n",
       "      <td>7.0</td>\n",
       "      <td>3.0</td>\n",
       "      <td>4.0</td>\n",
       "      <td>...</td>\n",
       "      <td>28.78</td>\n",
       "      <td>NaN</td>\n",
       "      <td>L</td>\n",
       "      <td>185.0</td>\n",
       "      <td>105550</td>\n",
       "      <td>ARG</td>\n",
       "      <td>Guido Pella</td>\n",
       "      <td>48.0</td>\n",
       "      <td>975.0</td>\n",
       "      <td>3.0</td>\n",
       "    </tr>\n",
       "  </tbody>\n",
       "</table>\n",
       "<p>5 rows × 49 columns</p>\n",
       "</div>"
      ],
      "text/plain": [
       "        best_of  draw_size  l_1stIn  l_1stWon  l_2ndWon  l_SvGms  l_ace  \\\n",
       "169685        3        NaN     54.0      43.0      16.0     15.0   13.0   \n",
       "169686        3        NaN     23.0      12.0       5.0      7.0    0.0   \n",
       "169687        3        NaN     56.0      39.0      13.0     12.0    5.0   \n",
       "169688        3        NaN     34.0      24.0      11.0     10.0    5.0   \n",
       "169689        3        NaN     35.0      26.0       9.0     11.0    5.0   \n",
       "\n",
       "        l_bpFaced  l_bpSaved  l_df  ...  winner_age  winner_entry winner_hand  \\\n",
       "169685        5.0        3.0   1.0  ...       22.74           NaN           R   \n",
       "169686        8.0        3.0   2.0  ...       20.18           NaN           R   \n",
       "169687        5.0        3.0   1.0  ...       28.78           NaN           L   \n",
       "169688        6.0        3.0   0.0  ...       22.74           NaN           R   \n",
       "169689        7.0        3.0   4.0  ...       28.78           NaN           L   \n",
       "\n",
       "       winner_ht  winner_id  winner_ioc      winner_name winner_rank  \\\n",
       "169685       NaN     106426         CHI  Christian Garin        92.0   \n",
       "169686       NaN     134770         NOR      Casper Ruud       108.0   \n",
       "169687     185.0     105550         ARG      Guido Pella        48.0   \n",
       "169688       NaN     106426         CHI  Christian Garin        92.0   \n",
       "169689     185.0     105550         ARG      Guido Pella        48.0   \n",
       "\n",
       "        winner_rank_points  winner_seed  \n",
       "169685               620.0          NaN  \n",
       "169686               527.0          NaN  \n",
       "169687               975.0          3.0  \n",
       "169688               620.0          NaN  \n",
       "169689               975.0          3.0  \n",
       "\n",
       "[5 rows x 49 columns]"
      ]
     },
     "execution_count": 19,
     "metadata": {},
     "output_type": "execute_result"
    }
   ],
   "source": [
    "data = pd.read_csv('ATP.csv')\n",
    "\n",
    "print('Nmbr de lignes = {} / Nmbr de colonnes = {}'.format(*data.shape))\n",
    "\n",
    "data.tail()"
   ]
  },
  {
   "cell_type": "code",
   "execution_count": 20,
   "metadata": {},
   "outputs": [
    {
     "name": "stdout",
     "output_type": "stream",
     "text": [
      "<class 'pandas.core.frame.DataFrame'>\n",
      "RangeIndex: 169690 entries, 0 to 169689\n",
      "Data columns (total 49 columns):\n",
      "best_of               169690 non-null int64\n",
      "draw_size             1232 non-null float64\n",
      "l_1stIn               83415 non-null float64\n",
      "l_1stWon              83415 non-null float64\n",
      "l_2ndWon              83415 non-null float64\n",
      "l_SvGms               83415 non-null float64\n",
      "l_ace                 83415 non-null float64\n",
      "l_bpFaced             83415 non-null float64\n",
      "l_bpSaved             83415 non-null float64\n",
      "l_df                  83415 non-null float64\n",
      "l_svpt                83415 non-null float64\n",
      "loser_age             164700 non-null float64\n",
      "loser_entry           25339 non-null object\n",
      "loser_hand            169605 non-null object\n",
      "loser_ht              139052 non-null float64\n",
      "loser_id              169690 non-null int64\n",
      "loser_ioc             169690 non-null object\n",
      "loser_name            169690 non-null object\n",
      "loser_rank            145909 non-null float64\n",
      "loser_rank_points     93025 non-null float64\n",
      "loser_seed            32853 non-null float64\n",
      "match_num             169690 non-null int64\n",
      "minutes               82103 non-null float64\n",
      "round                 169690 non-null object\n",
      "score                 169514 non-null object\n",
      "surface               167151 non-null object\n",
      "tourney_date          169690 non-null int64\n",
      "tourney_id            169690 non-null object\n",
      "tourney_level         169690 non-null object\n",
      "tourney_name          169690 non-null object\n",
      "w_1stIn               83415 non-null float64\n",
      "w_1stWon              83415 non-null float64\n",
      "w_2ndWon              83415 non-null float64\n",
      "w_SvGms               83415 non-null float64\n",
      "w_ace                 83415 non-null float64\n",
      "w_bpFaced             83415 non-null float64\n",
      "w_bpSaved             83415 non-null float64\n",
      "w_df                  83415 non-null float64\n",
      "w_svpt                83415 non-null float64\n",
      "winner_age            167929 non-null float64\n",
      "winner_entry          14748 non-null object\n",
      "winner_hand           169651 non-null object\n",
      "winner_ht             150884 non-null float64\n",
      "winner_id             169690 non-null int64\n",
      "winner_ioc            169690 non-null object\n",
      "winner_name           169690 non-null object\n",
      "winner_rank           149773 non-null float64\n",
      "winner_rank_points    94291 non-null float64\n",
      "winner_seed           65295 non-null float64\n",
      "dtypes: float64(30), int64(5), object(14)\n",
      "memory usage: 63.4+ MB\n"
     ]
    }
   ],
   "source": [
    "data.info()"
   ]
  },
  {
   "cell_type": "code",
   "execution_count": 21,
   "metadata": {},
   "outputs": [
    {
     "data": {
      "text/plain": [
       "<matplotlib.axes._subplots.AxesSubplot at 0x7f1227445128>"
      ]
     },
     "execution_count": 21,
     "metadata": {},
     "output_type": "execute_result"
    },
    {
     "data": {
      "image/png": "[encoded data removed]",
      "text/plain": [
       "<Figure size 1440x576 with 2 Axes>"
      ]
     },
     "metadata": {},
     "output_type": "display_data"
    }
   ],
   "source": [
    "# Une visualisation qui permets de voir l'ampleur des missing values\n",
    "missingno.matrix(data, figsize = (20,8))"
   ]
  },
  {
   "cell_type": "code",
   "execution_count": 22,
   "metadata": {},
   "outputs": [
    {
     "data": {
      "text/plain": [
       "best_of                    0\n",
       "draw_size             168458\n",
       "l_1stIn                86275\n",
       "l_1stWon               86275\n",
       "l_2ndWon               86275\n",
       "l_SvGms                86275\n",
       "l_ace                  86275\n",
       "l_bpFaced              86275\n",
       "l_bpSaved              86275\n",
       "l_df                   86275\n",
       "l_svpt                 86275\n",
       "loser_age               4990\n",
       "loser_entry           144351\n",
       "loser_hand                85\n",
       "loser_ht               30638\n",
       "loser_id                   0\n",
       "loser_ioc                  0\n",
       "loser_name                 0\n",
       "loser_rank             23781\n",
       "loser_rank_points      76665\n",
       "loser_seed            136837\n",
       "match_num                  0\n",
       "minutes                87587\n",
       "round                      0\n",
       "score                    176\n",
       "surface                 2539\n",
       "tourney_date               0\n",
       "tourney_id                 0\n",
       "tourney_level              0\n",
       "tourney_name               0\n",
       "w_1stIn                86275\n",
       "w_1stWon               86275\n",
       "w_2ndWon               86275\n",
       "w_SvGms                86275\n",
       "w_ace                  86275\n",
       "w_bpFaced              86275\n",
       "w_bpSaved              86275\n",
       "w_df                   86275\n",
       "w_svpt                 86275\n",
       "winner_age              1761\n",
       "winner_entry          154942\n",
       "winner_hand               39\n",
       "winner_ht              18806\n",
       "winner_id                  0\n",
       "winner_ioc                 0\n",
       "winner_name                0\n",
       "winner_rank            19917\n",
       "winner_rank_points     75399\n",
       "winner_seed           104395\n",
       "dtype: int64"
      ]
     },
     "execution_count": 22,
     "metadata": {},
     "output_type": "execute_result"
    }
   ],
   "source": [
    "# Alternative on va voir le nombre de missing values\n",
    "data.isnull().sum()"
   ]
  },
  {
   "cell_type": "markdown",
   "metadata": {},
   "source": [
    "On remarque qu'il y a 3 grandes catégories de variables: Description du tourney, Description du Looser et Description du Winner.\n",
    "C'est des données labelisés implicitement, donc une des taches serait d'extraire les labels Y à partir des données tout essayant de balancer les classes en créant Player 1 et Player 2 et en inversant afin d'avoir autant de 1 (pour Winner) que de 0 (pour Looser)."
   ]
  },
  {
   "cell_type": "code",
   "execution_count": 23,
   "metadata": {},
   "outputs": [],
   "source": [
    "# Le choix se fera d'une maniere aleatoire afin d'eviter des biais\n",
    "_data = data.copy()\n",
    "data_winner = _data.sample(frac=0.5, random_state=23)\n",
    "data_loser = _data.drop(data_winner.index)"
   ]
  },
  {
   "cell_type": "code",
   "execution_count": 24,
   "metadata": {},
   "outputs": [],
   "source": [
    "# Je vais devoir inverser toutes les colonnes loser avec les colones winner sans toucher aux colonnes propres au tournoi(possible de le faire avec une RegEx sur le nom de la colonne mais ca risquerait de prendre trop de temps)\n",
    "data_winner.rename(columns={\"l_1stIn\" : \"w_1stIn\", \"l_1stWon\" : \"w_1stWon\", \"l_2ndWon\" : \"w_2ndWon\",\n",
    "                            \"l_SvGms\" : \"w_SvGms\", \"l_ace\" : \"w_ace\", \"l_bpFaced\" : \"w_bpFaced\",\n",
    "                            \"l_bpSaved\" : \"w_bpSaved\", \"l_df\" : \"w_df\", \"l_svpt\" : \"w_svpt\",\n",
    "                            \"loser_age\" : \"winner_age\", \"loser_entry\" : \"winner_entry\",\n",
    "                            \"loser_hand\" : \"winner_hand\", \"loser_ht\" : \"winner_ht\",\n",
    "                            \"loser_id\" : \"winner_id\", \"loser_ioc\" : \"winner_ioc\",\n",
    "                            \"loser_rank\" : \"winner_rank\", \"loser_rank_points\" : \"winner_rank_points\",\n",
    "                            \"loser_seed\" : \"winner_seed\",\n",
    "                            \"w_1stIn\" : \"l_1stIn\",  \"w_1stWon\" : \"l_1stWon\", \"w_2ndWon\" : \"l_2ndWon\",\n",
    "                            \"w_SvGms\" : \"l_SvGms\", \"w_ace\" : \"l_ace\", \"w_bpFaced\" : \"l_bpFaced\",\n",
    "                            \"w_bpSaved\" : \"l_bpSaved\", \"w_df\" : \"l_df\", \"w_svpt\" : \"l_svpt\",\n",
    "                            \"winner_age\" : \"loser_age\", \"winner_entry\" : \"loser_entry\",\n",
    "                            \"winner_hand\" : \"loser_hand\", \"winner_ht\" : \"loser_ht\",\n",
    "                            \"winner_id\" : \"loser_id\", \"winner_ioc\" : \"loser_ioc\",\n",
    "                            \"winner_rank\" : \"loser_rank\", \"winner_rank_points\" : \"loser_rank_points\",\n",
    "                            \"winner_seed\" : \"loser_seed\", }, inplace=True)"
   ]
  },
  {
   "cell_type": "code",
   "execution_count": 25,
   "metadata": {},
   "outputs": [],
   "source": [
    "# Maintenant on ajoute la colonne Y du label 0: Loser / 1: Winner\n",
    "data_loser['Y'] = 0\n",
    "data_winner['Y'] = 1"
   ]
  },
  {
   "cell_type": "code",
   "execution_count": 26,
   "metadata": {},
   "outputs": [
    {
     "data": {
      "text/html": [
       "<div>\n",
       "<style scoped>\n",
       "    .dataframe tbody tr th:only-of-type {\n",
       "        vertical-align: middle;\n",
       "    }\n",
       "\n",
       "    .dataframe tbody tr th {\n",
       "        vertical-align: top;\n",
       "    }\n",
       "\n",
       "    .dataframe thead th {\n",
       "        text-align: right;\n",
       "    }\n",
       "</style>\n",
       "<table border=\"1\" class=\"dataframe\">\n",
       "  <thead>\n",
       "    <tr style=\"text-align: right;\">\n",
       "      <th></th>\n",
       "      <th>Y</th>\n",
       "      <th>best_of</th>\n",
       "      <th>draw_size</th>\n",
       "      <th>l_1stIn</th>\n",
       "      <th>l_1stWon</th>\n",
       "      <th>l_2ndWon</th>\n",
       "      <th>l_SvGms</th>\n",
       "      <th>l_ace</th>\n",
       "      <th>l_bpFaced</th>\n",
       "      <th>l_bpSaved</th>\n",
       "      <th>...</th>\n",
       "      <th>winner_age</th>\n",
       "      <th>winner_entry</th>\n",
       "      <th>winner_hand</th>\n",
       "      <th>winner_ht</th>\n",
       "      <th>winner_id</th>\n",
       "      <th>winner_ioc</th>\n",
       "      <th>winner_name</th>\n",
       "      <th>winner_rank</th>\n",
       "      <th>winner_rank_points</th>\n",
       "      <th>winner_seed</th>\n",
       "    </tr>\n",
       "  </thead>\n",
       "  <tbody>\n",
       "    <tr>\n",
       "      <td>0</td>\n",
       "      <td>0</td>\n",
       "      <td>5</td>\n",
       "      <td>64.0</td>\n",
       "      <td>NaN</td>\n",
       "      <td>NaN</td>\n",
       "      <td>NaN</td>\n",
       "      <td>NaN</td>\n",
       "      <td>NaN</td>\n",
       "      <td>NaN</td>\n",
       "      <td>NaN</td>\n",
       "      <td>...</td>\n",
       "      <td>NaN</td>\n",
       "      <td>NaN</td>\n",
       "      <td>R</td>\n",
       "      <td>NaN</td>\n",
       "      <td>110023</td>\n",
       "      <td>AUS</td>\n",
       "      <td>Richard Coulthard</td>\n",
       "      <td>NaN</td>\n",
       "      <td>NaN</td>\n",
       "      <td>NaN</td>\n",
       "    </tr>\n",
       "    <tr>\n",
       "      <td>2</td>\n",
       "      <td>0</td>\n",
       "      <td>5</td>\n",
       "      <td>64.0</td>\n",
       "      <td>NaN</td>\n",
       "      <td>NaN</td>\n",
       "      <td>NaN</td>\n",
       "      <td>NaN</td>\n",
       "      <td>NaN</td>\n",
       "      <td>NaN</td>\n",
       "      <td>NaN</td>\n",
       "      <td>...</td>\n",
       "      <td>16.216290</td>\n",
       "      <td>NaN</td>\n",
       "      <td>R</td>\n",
       "      <td>NaN</td>\n",
       "      <td>100257</td>\n",
       "      <td>AUS</td>\n",
       "      <td>Ross Case</td>\n",
       "      <td>NaN</td>\n",
       "      <td>NaN</td>\n",
       "      <td>NaN</td>\n",
       "    </tr>\n",
       "    <tr>\n",
       "      <td>4</td>\n",
       "      <td>0</td>\n",
       "      <td>5</td>\n",
       "      <td>64.0</td>\n",
       "      <td>NaN</td>\n",
       "      <td>NaN</td>\n",
       "      <td>NaN</td>\n",
       "      <td>NaN</td>\n",
       "      <td>NaN</td>\n",
       "      <td>NaN</td>\n",
       "      <td>NaN</td>\n",
       "      <td>...</td>\n",
       "      <td>29.861739</td>\n",
       "      <td>NaN</td>\n",
       "      <td>R</td>\n",
       "      <td>NaN</td>\n",
       "      <td>109966</td>\n",
       "      <td>AUS</td>\n",
       "      <td>Warren Jacques</td>\n",
       "      <td>NaN</td>\n",
       "      <td>NaN</td>\n",
       "      <td>NaN</td>\n",
       "    </tr>\n",
       "    <tr>\n",
       "      <td>7</td>\n",
       "      <td>0</td>\n",
       "      <td>5</td>\n",
       "      <td>64.0</td>\n",
       "      <td>NaN</td>\n",
       "      <td>NaN</td>\n",
       "      <td>NaN</td>\n",
       "      <td>NaN</td>\n",
       "      <td>NaN</td>\n",
       "      <td>NaN</td>\n",
       "      <td>NaN</td>\n",
       "      <td>...</td>\n",
       "      <td>30.529774</td>\n",
       "      <td>NaN</td>\n",
       "      <td>R</td>\n",
       "      <td>173.0</td>\n",
       "      <td>100025</td>\n",
       "      <td>AUS</td>\n",
       "      <td>Barry Phillips Moore</td>\n",
       "      <td>NaN</td>\n",
       "      <td>NaN</td>\n",
       "      <td>3.0</td>\n",
       "    </tr>\n",
       "    <tr>\n",
       "      <td>11</td>\n",
       "      <td>0</td>\n",
       "      <td>5</td>\n",
       "      <td>64.0</td>\n",
       "      <td>NaN</td>\n",
       "      <td>NaN</td>\n",
       "      <td>NaN</td>\n",
       "      <td>NaN</td>\n",
       "      <td>NaN</td>\n",
       "      <td>NaN</td>\n",
       "      <td>NaN</td>\n",
       "      <td>...</td>\n",
       "      <td>18.702259</td>\n",
       "      <td>NaN</td>\n",
       "      <td>R</td>\n",
       "      <td>NaN</td>\n",
       "      <td>100180</td>\n",
       "      <td>AUS</td>\n",
       "      <td>Bill Lloyd</td>\n",
       "      <td>NaN</td>\n",
       "      <td>NaN</td>\n",
       "      <td>NaN</td>\n",
       "    </tr>\n",
       "  </tbody>\n",
       "</table>\n",
       "<p>5 rows × 50 columns</p>\n",
       "</div>"
      ],
      "text/plain": [
       "    Y  best_of  draw_size  l_1stIn  l_1stWon  l_2ndWon  l_SvGms  l_ace  \\\n",
       "0   0        5       64.0      NaN       NaN       NaN      NaN    NaN   \n",
       "2   0        5       64.0      NaN       NaN       NaN      NaN    NaN   \n",
       "4   0        5       64.0      NaN       NaN       NaN      NaN    NaN   \n",
       "7   0        5       64.0      NaN       NaN       NaN      NaN    NaN   \n",
       "11  0        5       64.0      NaN       NaN       NaN      NaN    NaN   \n",
       "\n",
       "    l_bpFaced  l_bpSaved  ...  winner_age  winner_entry  winner_hand  \\\n",
       "0         NaN        NaN  ...         NaN           NaN            R   \n",
       "2         NaN        NaN  ...   16.216290           NaN            R   \n",
       "4         NaN        NaN  ...   29.861739           NaN            R   \n",
       "7         NaN        NaN  ...   30.529774           NaN            R   \n",
       "11        NaN        NaN  ...   18.702259           NaN            R   \n",
       "\n",
       "   winner_ht winner_id  winner_ioc           winner_name winner_rank  \\\n",
       "0        NaN    110023         AUS     Richard Coulthard         NaN   \n",
       "2        NaN    100257         AUS             Ross Case         NaN   \n",
       "4        NaN    109966         AUS        Warren Jacques         NaN   \n",
       "7      173.0    100025         AUS  Barry Phillips Moore         NaN   \n",
       "11       NaN    100180         AUS            Bill Lloyd         NaN   \n",
       "\n",
       "   winner_rank_points  winner_seed  \n",
       "0                 NaN          NaN  \n",
       "2                 NaN          NaN  \n",
       "4                 NaN          NaN  \n",
       "7                 NaN          3.0  \n",
       "11                NaN          NaN  \n",
       "\n",
       "[5 rows x 50 columns]"
      ]
     },
     "execution_count": 26,
     "metadata": {},
     "output_type": "execute_result"
    }
   ],
   "source": [
    "# Rassembler les deux dataframe en un afin de nettoyer les datas puis creer les X et Y pour train et test\n",
    "_data = data_loser.append(data_winner, sort=True)\n",
    "_data.head()"
   ]
  },
  {
   "cell_type": "code",
   "execution_count": 27,
   "metadata": {},
   "outputs": [
    {
     "data": {
      "text/plain": [
       "USA    33735\n",
       "ESP    13384\n",
       "AUS    12619\n",
       "FRA    11054\n",
       "GER     8774\n",
       "       ...  \n",
       "COK        2\n",
       "AZE        1\n",
       "BUR        1\n",
       "RHO        1\n",
       "PNG        1\n",
       "Name: winner_ioc, Length: 134, dtype: int64"
      ]
     },
     "execution_count": 27,
     "metadata": {},
     "output_type": "execute_result"
    }
   ],
   "source": [
    "_data.winner_ioc.value_counts()"
   ]
  },
  {
   "cell_type": "markdown",
   "metadata": {},
   "source": [
    "Il est possible d'utiliser geopandas pour visualiser la distribution des winners/losers par rapport à leurs pays.\n",
    "Il serait interessant de l'exploiter car il y a des pays qui sont leader pour une discipline sportive donc ce qui permettrait d'aider à choisir le bon candidat."
   ]
  },
  {
   "cell_type": "code",
   "execution_count": 28,
   "metadata": {},
   "outputs": [
    {
     "data": {
      "text/plain": [
       "Index(['Y', 'best_of', 'draw_size', 'l_1stIn', 'l_1stWon', 'l_2ndWon',\n",
       "       'l_SvGms', 'l_ace', 'l_bpFaced', 'l_bpSaved', 'l_df', 'l_svpt',\n",
       "       'loser_age', 'loser_entry', 'loser_hand', 'loser_ht', 'loser_id',\n",
       "       'loser_ioc', 'loser_name', 'loser_rank', 'loser_rank_points',\n",
       "       'loser_seed', 'match_num', 'minutes', 'round', 'score', 'surface',\n",
       "       'tourney_date', 'tourney_id', 'tourney_level', 'tourney_name',\n",
       "       'w_1stIn', 'w_1stWon', 'w_2ndWon', 'w_SvGms', 'w_ace', 'w_bpFaced',\n",
       "       'w_bpSaved', 'w_df', 'w_svpt', 'winner_age', 'winner_entry',\n",
       "       'winner_hand', 'winner_ht', 'winner_id', 'winner_ioc', 'winner_name',\n",
       "       'winner_rank', 'winner_rank_points', 'winner_seed'],\n",
       "      dtype='object')"
      ]
     },
     "execution_count": 28,
     "metadata": {},
     "output_type": "execute_result"
    }
   ],
   "source": [
    "_data.columns"
   ]
  },
  {
   "cell_type": "markdown",
   "metadata": {},
   "source": [
    "Je pars du principe que certains tournois ont toujours le meme type de surface; donc je vais creer un dictionnaire avec le nom des tournois pour clé et surface pour valeur afin d'essayer de minimiser les missing values"
   ]
  },
  {
   "cell_type": "code",
   "execution_count": 29,
   "metadata": {},
   "outputs": [
    {
     "name": "stdout",
     "output_type": "stream",
     "text": [
      "On a réduit les na de la colonne Surface de 2539 à 2319 valeurs\n"
     ]
    }
   ],
   "source": [
    "tournoi_surface = pd.Series(_data.surface.values, index=_data.tourney_name).to_dict()\n",
    "\n",
    "old_missing_val = _data.surface.isna().sum()\n",
    "\n",
    "_data['surface'] = _data.apply(lambda row: tournoi_surface[row['tourney_name']] if True else print('Next'), axis=1)\n",
    "\n",
    "new_missing_val = _data.surface.isna().sum()\n",
    "\n",
    "print(\"On a réduit les na de la colonne Surface de {} à {} valeurs\".format(old_missing_val, new_missing_val))"
   ]
  },
  {
   "cell_type": "code",
   "execution_count": 30,
   "metadata": {},
   "outputs": [],
   "source": [
    "_data['year'] = _data['tourney_date'].apply(lambda row: str(row)[:4])\n",
    "_data['month'] = _data['tourney_date'].apply(lambda row: str(row)[4:6])"
   ]
  },
  {
   "cell_type": "code",
   "execution_count": 31,
   "metadata": {},
   "outputs": [],
   "source": [
    "# Le choix des variables est fait de sorte à ne garder que les données qu'on peut facilement trouver avant \n",
    "# le match donc la description du winner/loser, leurs historiques et les caracteristiques du terrain\n",
    "# et l'année car je suppose qu'il y a des tendances qui changent au fil des années\n",
    "\n",
    "supprime = ['best_of','tourney_id', 'tourney_name', 'score', 'draw_size', 'winner_name', 'winner_seed',\n",
    "            'winner_entry','loser_name', 'loser_seed','loser_entry','match_num', 'minutes', 'round',\n",
    "            'tourney_date']\n",
    "_data.drop(supprime,axis=1,inplace=True)"
   ]
  },
  {
   "cell_type": "code",
   "execution_count": 32,
   "metadata": {},
   "outputs": [
    {
     "data": {
      "text/html": [
       "<div>\n",
       "<style scoped>\n",
       "    .dataframe tbody tr th:only-of-type {\n",
       "        vertical-align: middle;\n",
       "    }\n",
       "\n",
       "    .dataframe tbody tr th {\n",
       "        vertical-align: top;\n",
       "    }\n",
       "\n",
       "    .dataframe thead th {\n",
       "        text-align: right;\n",
       "    }\n",
       "</style>\n",
       "<table border=\"1\" class=\"dataframe\">\n",
       "  <thead>\n",
       "    <tr style=\"text-align: right;\">\n",
       "      <th></th>\n",
       "      <th>Y</th>\n",
       "      <th>l_1stIn</th>\n",
       "      <th>l_1stWon</th>\n",
       "      <th>l_2ndWon</th>\n",
       "      <th>l_SvGms</th>\n",
       "      <th>l_ace</th>\n",
       "      <th>l_bpFaced</th>\n",
       "      <th>l_bpSaved</th>\n",
       "      <th>l_df</th>\n",
       "      <th>l_svpt</th>\n",
       "      <th>...</th>\n",
       "      <th>w_svpt</th>\n",
       "      <th>winner_age</th>\n",
       "      <th>winner_hand</th>\n",
       "      <th>winner_ht</th>\n",
       "      <th>winner_id</th>\n",
       "      <th>winner_ioc</th>\n",
       "      <th>winner_rank</th>\n",
       "      <th>winner_rank_points</th>\n",
       "      <th>year</th>\n",
       "      <th>month</th>\n",
       "    </tr>\n",
       "  </thead>\n",
       "  <tbody>\n",
       "    <tr>\n",
       "      <td>0</td>\n",
       "      <td>0</td>\n",
       "      <td>NaN</td>\n",
       "      <td>NaN</td>\n",
       "      <td>NaN</td>\n",
       "      <td>NaN</td>\n",
       "      <td>NaN</td>\n",
       "      <td>NaN</td>\n",
       "      <td>NaN</td>\n",
       "      <td>NaN</td>\n",
       "      <td>NaN</td>\n",
       "      <td>...</td>\n",
       "      <td>NaN</td>\n",
       "      <td>NaN</td>\n",
       "      <td>R</td>\n",
       "      <td>NaN</td>\n",
       "      <td>110023</td>\n",
       "      <td>AUS</td>\n",
       "      <td>NaN</td>\n",
       "      <td>NaN</td>\n",
       "      <td>1968</td>\n",
       "      <td>01</td>\n",
       "    </tr>\n",
       "    <tr>\n",
       "      <td>2</td>\n",
       "      <td>0</td>\n",
       "      <td>NaN</td>\n",
       "      <td>NaN</td>\n",
       "      <td>NaN</td>\n",
       "      <td>NaN</td>\n",
       "      <td>NaN</td>\n",
       "      <td>NaN</td>\n",
       "      <td>NaN</td>\n",
       "      <td>NaN</td>\n",
       "      <td>NaN</td>\n",
       "      <td>...</td>\n",
       "      <td>NaN</td>\n",
       "      <td>16.216290</td>\n",
       "      <td>R</td>\n",
       "      <td>NaN</td>\n",
       "      <td>100257</td>\n",
       "      <td>AUS</td>\n",
       "      <td>NaN</td>\n",
       "      <td>NaN</td>\n",
       "      <td>1968</td>\n",
       "      <td>01</td>\n",
       "    </tr>\n",
       "    <tr>\n",
       "      <td>4</td>\n",
       "      <td>0</td>\n",
       "      <td>NaN</td>\n",
       "      <td>NaN</td>\n",
       "      <td>NaN</td>\n",
       "      <td>NaN</td>\n",
       "      <td>NaN</td>\n",
       "      <td>NaN</td>\n",
       "      <td>NaN</td>\n",
       "      <td>NaN</td>\n",
       "      <td>NaN</td>\n",
       "      <td>...</td>\n",
       "      <td>NaN</td>\n",
       "      <td>29.861739</td>\n",
       "      <td>R</td>\n",
       "      <td>NaN</td>\n",
       "      <td>109966</td>\n",
       "      <td>AUS</td>\n",
       "      <td>NaN</td>\n",
       "      <td>NaN</td>\n",
       "      <td>1968</td>\n",
       "      <td>01</td>\n",
       "    </tr>\n",
       "    <tr>\n",
       "      <td>7</td>\n",
       "      <td>0</td>\n",
       "      <td>NaN</td>\n",
       "      <td>NaN</td>\n",
       "      <td>NaN</td>\n",
       "      <td>NaN</td>\n",
       "      <td>NaN</td>\n",
       "      <td>NaN</td>\n",
       "      <td>NaN</td>\n",
       "      <td>NaN</td>\n",
       "      <td>NaN</td>\n",
       "      <td>...</td>\n",
       "      <td>NaN</td>\n",
       "      <td>30.529774</td>\n",
       "      <td>R</td>\n",
       "      <td>173.0</td>\n",
       "      <td>100025</td>\n",
       "      <td>AUS</td>\n",
       "      <td>NaN</td>\n",
       "      <td>NaN</td>\n",
       "      <td>1968</td>\n",
       "      <td>01</td>\n",
       "    </tr>\n",
       "    <tr>\n",
       "      <td>11</td>\n",
       "      <td>0</td>\n",
       "      <td>NaN</td>\n",
       "      <td>NaN</td>\n",
       "      <td>NaN</td>\n",
       "      <td>NaN</td>\n",
       "      <td>NaN</td>\n",
       "      <td>NaN</td>\n",
       "      <td>NaN</td>\n",
       "      <td>NaN</td>\n",
       "      <td>NaN</td>\n",
       "      <td>...</td>\n",
       "      <td>NaN</td>\n",
       "      <td>18.702259</td>\n",
       "      <td>R</td>\n",
       "      <td>NaN</td>\n",
       "      <td>100180</td>\n",
       "      <td>AUS</td>\n",
       "      <td>NaN</td>\n",
       "      <td>NaN</td>\n",
       "      <td>1968</td>\n",
       "      <td>01</td>\n",
       "    </tr>\n",
       "  </tbody>\n",
       "</table>\n",
       "<p>5 rows × 37 columns</p>\n",
       "</div>"
      ],
      "text/plain": [
       "    Y  l_1stIn  l_1stWon  l_2ndWon  l_SvGms  l_ace  l_bpFaced  l_bpSaved  \\\n",
       "0   0      NaN       NaN       NaN      NaN    NaN        NaN        NaN   \n",
       "2   0      NaN       NaN       NaN      NaN    NaN        NaN        NaN   \n",
       "4   0      NaN       NaN       NaN      NaN    NaN        NaN        NaN   \n",
       "7   0      NaN       NaN       NaN      NaN    NaN        NaN        NaN   \n",
       "11  0      NaN       NaN       NaN      NaN    NaN        NaN        NaN   \n",
       "\n",
       "    l_df  l_svpt  ...  w_svpt winner_age  winner_hand  winner_ht winner_id  \\\n",
       "0    NaN     NaN  ...     NaN        NaN            R        NaN    110023   \n",
       "2    NaN     NaN  ...     NaN  16.216290            R        NaN    100257   \n",
       "4    NaN     NaN  ...     NaN  29.861739            R        NaN    109966   \n",
       "7    NaN     NaN  ...     NaN  30.529774            R      173.0    100025   \n",
       "11   NaN     NaN  ...     NaN  18.702259            R        NaN    100180   \n",
       "\n",
       "    winner_ioc  winner_rank winner_rank_points  year  month  \n",
       "0          AUS          NaN                NaN  1968     01  \n",
       "2          AUS          NaN                NaN  1968     01  \n",
       "4          AUS          NaN                NaN  1968     01  \n",
       "7          AUS          NaN                NaN  1968     01  \n",
       "11         AUS          NaN                NaN  1968     01  \n",
       "\n",
       "[5 rows x 37 columns]"
      ]
     },
     "execution_count": 32,
     "metadata": {},
     "output_type": "execute_result"
    }
   ],
   "source": [
    "_data.head()"
   ]
  },
  {
   "cell_type": "code",
   "execution_count": 33,
   "metadata": {},
   "outputs": [
    {
     "data": {
      "text/plain": [
       "R    0.843957\n",
       "L    0.139369\n",
       "Name: loser_hand, dtype: float64"
      ]
     },
     "execution_count": 33,
     "metadata": {},
     "output_type": "execute_result"
    }
   ],
   "source": [
    "l_hand = _data.loser_hand.value_counts(normalize=True)[:-1]\n",
    "l_hand"
   ]
  },
  {
   "cell_type": "code",
   "execution_count": 34,
   "metadata": {},
   "outputs": [
    {
     "data": {
      "text/plain": [
       "R    0.842480\n",
       "L    0.140313\n",
       "Name: winner_hand, dtype: float64"
      ]
     },
     "execution_count": 34,
     "metadata": {},
     "output_type": "execute_result"
    }
   ],
   "source": [
    "w_hand = _data.winner_hand.value_counts(normalize=True)[:-1]\n",
    "w_hand"
   ]
  },
  {
   "cell_type": "code",
   "execution_count": 35,
   "metadata": {},
   "outputs": [],
   "source": [
    "# On a pres de 85% des joueurs droitiers donc on va remplir les missing values en respectant la meme distribution\n",
    "\n",
    "l_missing = _data['loser_hand'].isnull()\n",
    "_data.loc[l_missing, 'loser_hand'] = pd.np.random.choice(l_hand.index, size=len(_data[l_missing]), p=l_hand.values/l_hand.values.sum())"
   ]
  },
  {
   "cell_type": "code",
   "execution_count": 36,
   "metadata": {},
   "outputs": [],
   "source": [
    "w_missing = _data['winner_hand'].isnull()\n",
    "_data.loc[w_missing, 'winner_hand'] = pd.np.random.choice(w_hand.index, size=len(_data[w_missing]), p=w_hand.values/w_hand.values.sum())"
   ]
  },
  {
   "cell_type": "code",
   "execution_count": 37,
   "metadata": {},
   "outputs": [],
   "source": [
    "# Certaines colonnes caracterisant les joueurs comprennant des missing values vont etre rempli par la valeur moyenne \n",
    "# (car mediane prend nan :s)\n",
    "median = [\"l_1stIn\", \"w_1stIn\", \"l_1stWon\", \"w_1stWon\", \"l_2ndWon\", \"w_2ndWon\",\n",
    "          \"l_SvGms\", \"w_SvGms\", \"l_bpSaved\", \"w_bpSaved\", \"l_bpFaced\", \"w_bpFaced\", \"l_ace\", \n",
    "          \"w_ace\", \"l_df\", \"w_df\", \"l_svpt\", \"w_svpt\", \"loser_age\", \"winner_age\", \"loser_ht\",\n",
    "          \"winner_ht\", \"loser_rank\", \"winner_rank\", \"loser_rank_points\", \"winner_rank_points\"]\n",
    "\n",
    "for col in median:\n",
    "    _data[col] = _data[col].fillna(pd.np.mean(_data[col]))"
   ]
  },
  {
   "cell_type": "code",
   "execution_count": 38,
   "metadata": {},
   "outputs": [
    {
     "data": {
      "text/html": [
       "<div>\n",
       "<style scoped>\n",
       "    .dataframe tbody tr th:only-of-type {\n",
       "        vertical-align: middle;\n",
       "    }\n",
       "\n",
       "    .dataframe tbody tr th {\n",
       "        vertical-align: top;\n",
       "    }\n",
       "\n",
       "    .dataframe thead th {\n",
       "        text-align: right;\n",
       "    }\n",
       "</style>\n",
       "<table border=\"1\" class=\"dataframe\">\n",
       "  <thead>\n",
       "    <tr style=\"text-align: right;\">\n",
       "      <th></th>\n",
       "      <th>Y</th>\n",
       "      <th>l_1stIn</th>\n",
       "      <th>l_1stWon</th>\n",
       "      <th>l_2ndWon</th>\n",
       "      <th>l_SvGms</th>\n",
       "      <th>l_ace</th>\n",
       "      <th>l_bpFaced</th>\n",
       "      <th>l_bpSaved</th>\n",
       "      <th>l_df</th>\n",
       "      <th>l_svpt</th>\n",
       "      <th>...</th>\n",
       "      <th>w_svpt</th>\n",
       "      <th>winner_age</th>\n",
       "      <th>winner_hand</th>\n",
       "      <th>winner_ht</th>\n",
       "      <th>winner_id</th>\n",
       "      <th>winner_ioc</th>\n",
       "      <th>winner_rank</th>\n",
       "      <th>winner_rank_points</th>\n",
       "      <th>year</th>\n",
       "      <th>month</th>\n",
       "    </tr>\n",
       "  </thead>\n",
       "  <tbody>\n",
       "    <tr>\n",
       "      <td>0</td>\n",
       "      <td>0</td>\n",
       "      <td>47.482599</td>\n",
       "      <td>33.648684</td>\n",
       "      <td>15.920302</td>\n",
       "      <td>12.259126</td>\n",
       "      <td>5.619853</td>\n",
       "      <td>6.970677</td>\n",
       "      <td>4.170449</td>\n",
       "      <td>3.131691</td>\n",
       "      <td>79.302583</td>\n",
       "      <td>...</td>\n",
       "      <td>79.322208</td>\n",
       "      <td>25.637707</td>\n",
       "      <td>R</td>\n",
       "      <td>184.175453</td>\n",
       "      <td>110023</td>\n",
       "      <td>AUS</td>\n",
       "      <td>101.022926</td>\n",
       "      <td>1089.098918</td>\n",
       "      <td>1968</td>\n",
       "      <td>01</td>\n",
       "    </tr>\n",
       "    <tr>\n",
       "      <td>2</td>\n",
       "      <td>0</td>\n",
       "      <td>47.482599</td>\n",
       "      <td>33.648684</td>\n",
       "      <td>15.920302</td>\n",
       "      <td>12.259126</td>\n",
       "      <td>5.619853</td>\n",
       "      <td>6.970677</td>\n",
       "      <td>4.170449</td>\n",
       "      <td>3.131691</td>\n",
       "      <td>79.302583</td>\n",
       "      <td>...</td>\n",
       "      <td>79.322208</td>\n",
       "      <td>16.216290</td>\n",
       "      <td>R</td>\n",
       "      <td>184.175453</td>\n",
       "      <td>100257</td>\n",
       "      <td>AUS</td>\n",
       "      <td>101.022926</td>\n",
       "      <td>1089.098918</td>\n",
       "      <td>1968</td>\n",
       "      <td>01</td>\n",
       "    </tr>\n",
       "    <tr>\n",
       "      <td>4</td>\n",
       "      <td>0</td>\n",
       "      <td>47.482599</td>\n",
       "      <td>33.648684</td>\n",
       "      <td>15.920302</td>\n",
       "      <td>12.259126</td>\n",
       "      <td>5.619853</td>\n",
       "      <td>6.970677</td>\n",
       "      <td>4.170449</td>\n",
       "      <td>3.131691</td>\n",
       "      <td>79.302583</td>\n",
       "      <td>...</td>\n",
       "      <td>79.322208</td>\n",
       "      <td>29.861739</td>\n",
       "      <td>R</td>\n",
       "      <td>184.175453</td>\n",
       "      <td>109966</td>\n",
       "      <td>AUS</td>\n",
       "      <td>101.022926</td>\n",
       "      <td>1089.098918</td>\n",
       "      <td>1968</td>\n",
       "      <td>01</td>\n",
       "    </tr>\n",
       "    <tr>\n",
       "      <td>7</td>\n",
       "      <td>0</td>\n",
       "      <td>47.482599</td>\n",
       "      <td>33.648684</td>\n",
       "      <td>15.920302</td>\n",
       "      <td>12.259126</td>\n",
       "      <td>5.619853</td>\n",
       "      <td>6.970677</td>\n",
       "      <td>4.170449</td>\n",
       "      <td>3.131691</td>\n",
       "      <td>79.302583</td>\n",
       "      <td>...</td>\n",
       "      <td>79.322208</td>\n",
       "      <td>30.529774</td>\n",
       "      <td>R</td>\n",
       "      <td>173.000000</td>\n",
       "      <td>100025</td>\n",
       "      <td>AUS</td>\n",
       "      <td>101.022926</td>\n",
       "      <td>1089.098918</td>\n",
       "      <td>1968</td>\n",
       "      <td>01</td>\n",
       "    </tr>\n",
       "    <tr>\n",
       "      <td>11</td>\n",
       "      <td>0</td>\n",
       "      <td>47.482599</td>\n",
       "      <td>33.648684</td>\n",
       "      <td>15.920302</td>\n",
       "      <td>12.259126</td>\n",
       "      <td>5.619853</td>\n",
       "      <td>6.970677</td>\n",
       "      <td>4.170449</td>\n",
       "      <td>3.131691</td>\n",
       "      <td>79.302583</td>\n",
       "      <td>...</td>\n",
       "      <td>79.322208</td>\n",
       "      <td>18.702259</td>\n",
       "      <td>R</td>\n",
       "      <td>184.175453</td>\n",
       "      <td>100180</td>\n",
       "      <td>AUS</td>\n",
       "      <td>101.022926</td>\n",
       "      <td>1089.098918</td>\n",
       "      <td>1968</td>\n",
       "      <td>01</td>\n",
       "    </tr>\n",
       "  </tbody>\n",
       "</table>\n",
       "<p>5 rows × 37 columns</p>\n",
       "</div>"
      ],
      "text/plain": [
       "    Y    l_1stIn   l_1stWon   l_2ndWon    l_SvGms     l_ace  l_bpFaced  \\\n",
       "0   0  47.482599  33.648684  15.920302  12.259126  5.619853   6.970677   \n",
       "2   0  47.482599  33.648684  15.920302  12.259126  5.619853   6.970677   \n",
       "4   0  47.482599  33.648684  15.920302  12.259126  5.619853   6.970677   \n",
       "7   0  47.482599  33.648684  15.920302  12.259126  5.619853   6.970677   \n",
       "11  0  47.482599  33.648684  15.920302  12.259126  5.619853   6.970677   \n",
       "\n",
       "    l_bpSaved      l_df     l_svpt  ...     w_svpt winner_age  winner_hand  \\\n",
       "0    4.170449  3.131691  79.302583  ...  79.322208  25.637707            R   \n",
       "2    4.170449  3.131691  79.302583  ...  79.322208  16.216290            R   \n",
       "4    4.170449  3.131691  79.302583  ...  79.322208  29.861739            R   \n",
       "7    4.170449  3.131691  79.302583  ...  79.322208  30.529774            R   \n",
       "11   4.170449  3.131691  79.302583  ...  79.322208  18.702259            R   \n",
       "\n",
       "     winner_ht winner_id  winner_ioc  winner_rank winner_rank_points  year  \\\n",
       "0   184.175453    110023         AUS   101.022926        1089.098918  1968   \n",
       "2   184.175453    100257         AUS   101.022926        1089.098918  1968   \n",
       "4   184.175453    109966         AUS   101.022926        1089.098918  1968   \n",
       "7   173.000000    100025         AUS   101.022926        1089.098918  1968   \n",
       "11  184.175453    100180         AUS   101.022926        1089.098918  1968   \n",
       "\n",
       "    month  \n",
       "0      01  \n",
       "2      01  \n",
       "4      01  \n",
       "7      01  \n",
       "11     01  \n",
       "\n",
       "[5 rows x 37 columns]"
      ]
     },
     "execution_count": 38,
     "metadata": {},
     "output_type": "execute_result"
    }
   ],
   "source": [
    "_data.head()"
   ]
  },
  {
   "cell_type": "code",
   "execution_count": 39,
   "metadata": {},
   "outputs": [
    {
     "data": {
      "text/plain": [
       "Hard      0.391752\n",
       "Clay      0.383693\n",
       "Carpet    0.122763\n",
       "Grass     0.101164\n",
       "Name: surface, dtype: float64"
      ]
     },
     "execution_count": 39,
     "metadata": {},
     "output_type": "execute_result"
    }
   ],
   "source": [
    "# Vue que j'ai eu des problemes de memoire avec la methode d'imputation je vais remplir 'Surface' en respecant la distribution\n",
    "surf = _data.surface.value_counts(normalize=True)[:-1]\n",
    "surf"
   ]
  },
  {
   "cell_type": "code",
   "execution_count": 40,
   "metadata": {},
   "outputs": [],
   "source": [
    "surf_missing = _data['surface'].isnull()\n",
    "_data.loc[surf_missing, 'surface'] = pd.np.random.choice(surf.index, size=len(_data[surf_missing]), p=surf.values/surf.values.sum())"
   ]
  },
  {
   "cell_type": "code",
   "execution_count": 41,
   "metadata": {},
   "outputs": [
    {
     "data": {
      "text/html": [
       "<div>\n",
       "<style scoped>\n",
       "    .dataframe tbody tr th:only-of-type {\n",
       "        vertical-align: middle;\n",
       "    }\n",
       "\n",
       "    .dataframe tbody tr th {\n",
       "        vertical-align: top;\n",
       "    }\n",
       "\n",
       "    .dataframe thead th {\n",
       "        text-align: right;\n",
       "    }\n",
       "</style>\n",
       "<table border=\"1\" class=\"dataframe\">\n",
       "  <thead>\n",
       "    <tr style=\"text-align: right;\">\n",
       "      <th></th>\n",
       "      <th>Y</th>\n",
       "      <th>l_1stIn</th>\n",
       "      <th>l_1stWon</th>\n",
       "      <th>l_2ndWon</th>\n",
       "      <th>l_SvGms</th>\n",
       "      <th>l_ace</th>\n",
       "      <th>l_bpFaced</th>\n",
       "      <th>l_bpSaved</th>\n",
       "      <th>l_df</th>\n",
       "      <th>l_svpt</th>\n",
       "      <th>...</th>\n",
       "      <th>w_svpt</th>\n",
       "      <th>winner_age</th>\n",
       "      <th>winner_hand</th>\n",
       "      <th>winner_ht</th>\n",
       "      <th>winner_id</th>\n",
       "      <th>winner_ioc</th>\n",
       "      <th>winner_rank</th>\n",
       "      <th>winner_rank_points</th>\n",
       "      <th>year</th>\n",
       "      <th>month</th>\n",
       "    </tr>\n",
       "  </thead>\n",
       "  <tbody>\n",
       "    <tr>\n",
       "      <td>0</td>\n",
       "      <td>0</td>\n",
       "      <td>47.482599</td>\n",
       "      <td>33.648684</td>\n",
       "      <td>15.920302</td>\n",
       "      <td>12.259126</td>\n",
       "      <td>5.619853</td>\n",
       "      <td>6.970677</td>\n",
       "      <td>4.170449</td>\n",
       "      <td>3.131691</td>\n",
       "      <td>79.302583</td>\n",
       "      <td>...</td>\n",
       "      <td>79.322208</td>\n",
       "      <td>25.637707</td>\n",
       "      <td>R</td>\n",
       "      <td>184.175453</td>\n",
       "      <td>110023</td>\n",
       "      <td>AUS</td>\n",
       "      <td>101.022926</td>\n",
       "      <td>1089.098918</td>\n",
       "      <td>1968</td>\n",
       "      <td>01</td>\n",
       "    </tr>\n",
       "    <tr>\n",
       "      <td>2</td>\n",
       "      <td>0</td>\n",
       "      <td>47.482599</td>\n",
       "      <td>33.648684</td>\n",
       "      <td>15.920302</td>\n",
       "      <td>12.259126</td>\n",
       "      <td>5.619853</td>\n",
       "      <td>6.970677</td>\n",
       "      <td>4.170449</td>\n",
       "      <td>3.131691</td>\n",
       "      <td>79.302583</td>\n",
       "      <td>...</td>\n",
       "      <td>79.322208</td>\n",
       "      <td>16.216290</td>\n",
       "      <td>R</td>\n",
       "      <td>184.175453</td>\n",
       "      <td>100257</td>\n",
       "      <td>AUS</td>\n",
       "      <td>101.022926</td>\n",
       "      <td>1089.098918</td>\n",
       "      <td>1968</td>\n",
       "      <td>01</td>\n",
       "    </tr>\n",
       "    <tr>\n",
       "      <td>4</td>\n",
       "      <td>0</td>\n",
       "      <td>47.482599</td>\n",
       "      <td>33.648684</td>\n",
       "      <td>15.920302</td>\n",
       "      <td>12.259126</td>\n",
       "      <td>5.619853</td>\n",
       "      <td>6.970677</td>\n",
       "      <td>4.170449</td>\n",
       "      <td>3.131691</td>\n",
       "      <td>79.302583</td>\n",
       "      <td>...</td>\n",
       "      <td>79.322208</td>\n",
       "      <td>29.861739</td>\n",
       "      <td>R</td>\n",
       "      <td>184.175453</td>\n",
       "      <td>109966</td>\n",
       "      <td>AUS</td>\n",
       "      <td>101.022926</td>\n",
       "      <td>1089.098918</td>\n",
       "      <td>1968</td>\n",
       "      <td>01</td>\n",
       "    </tr>\n",
       "    <tr>\n",
       "      <td>7</td>\n",
       "      <td>0</td>\n",
       "      <td>47.482599</td>\n",
       "      <td>33.648684</td>\n",
       "      <td>15.920302</td>\n",
       "      <td>12.259126</td>\n",
       "      <td>5.619853</td>\n",
       "      <td>6.970677</td>\n",
       "      <td>4.170449</td>\n",
       "      <td>3.131691</td>\n",
       "      <td>79.302583</td>\n",
       "      <td>...</td>\n",
       "      <td>79.322208</td>\n",
       "      <td>30.529774</td>\n",
       "      <td>R</td>\n",
       "      <td>173.000000</td>\n",
       "      <td>100025</td>\n",
       "      <td>AUS</td>\n",
       "      <td>101.022926</td>\n",
       "      <td>1089.098918</td>\n",
       "      <td>1968</td>\n",
       "      <td>01</td>\n",
       "    </tr>\n",
       "    <tr>\n",
       "      <td>11</td>\n",
       "      <td>0</td>\n",
       "      <td>47.482599</td>\n",
       "      <td>33.648684</td>\n",
       "      <td>15.920302</td>\n",
       "      <td>12.259126</td>\n",
       "      <td>5.619853</td>\n",
       "      <td>6.970677</td>\n",
       "      <td>4.170449</td>\n",
       "      <td>3.131691</td>\n",
       "      <td>79.302583</td>\n",
       "      <td>...</td>\n",
       "      <td>79.322208</td>\n",
       "      <td>18.702259</td>\n",
       "      <td>R</td>\n",
       "      <td>184.175453</td>\n",
       "      <td>100180</td>\n",
       "      <td>AUS</td>\n",
       "      <td>101.022926</td>\n",
       "      <td>1089.098918</td>\n",
       "      <td>1968</td>\n",
       "      <td>01</td>\n",
       "    </tr>\n",
       "  </tbody>\n",
       "</table>\n",
       "<p>5 rows × 37 columns</p>\n",
       "</div>"
      ],
      "text/plain": [
       "    Y    l_1stIn   l_1stWon   l_2ndWon    l_SvGms     l_ace  l_bpFaced  \\\n",
       "0   0  47.482599  33.648684  15.920302  12.259126  5.619853   6.970677   \n",
       "2   0  47.482599  33.648684  15.920302  12.259126  5.619853   6.970677   \n",
       "4   0  47.482599  33.648684  15.920302  12.259126  5.619853   6.970677   \n",
       "7   0  47.482599  33.648684  15.920302  12.259126  5.619853   6.970677   \n",
       "11  0  47.482599  33.648684  15.920302  12.259126  5.619853   6.970677   \n",
       "\n",
       "    l_bpSaved      l_df     l_svpt  ...     w_svpt winner_age  winner_hand  \\\n",
       "0    4.170449  3.131691  79.302583  ...  79.322208  25.637707            R   \n",
       "2    4.170449  3.131691  79.302583  ...  79.322208  16.216290            R   \n",
       "4    4.170449  3.131691  79.302583  ...  79.322208  29.861739            R   \n",
       "7    4.170449  3.131691  79.302583  ...  79.322208  30.529774            R   \n",
       "11   4.170449  3.131691  79.302583  ...  79.322208  18.702259            R   \n",
       "\n",
       "     winner_ht winner_id  winner_ioc  winner_rank winner_rank_points  year  \\\n",
       "0   184.175453    110023         AUS   101.022926        1089.098918  1968   \n",
       "2   184.175453    100257         AUS   101.022926        1089.098918  1968   \n",
       "4   184.175453    109966         AUS   101.022926        1089.098918  1968   \n",
       "7   173.000000    100025         AUS   101.022926        1089.098918  1968   \n",
       "11  184.175453    100180         AUS   101.022926        1089.098918  1968   \n",
       "\n",
       "    month  \n",
       "0      01  \n",
       "2      01  \n",
       "4      01  \n",
       "7      01  \n",
       "11     01  \n",
       "\n",
       "[5 rows x 37 columns]"
      ]
     },
     "execution_count": 41,
     "metadata": {},
     "output_type": "execute_result"
    }
   ],
   "source": [
    "_data.head()"
   ]
  },
  {
   "cell_type": "code",
   "execution_count": 42,
   "metadata": {},
   "outputs": [
    {
     "data": {
      "text/plain": [
       "Y                     0\n",
       "l_1stIn               0\n",
       "l_1stWon              0\n",
       "l_2ndWon              0\n",
       "l_SvGms               0\n",
       "l_ace                 0\n",
       "l_bpFaced             0\n",
       "l_bpSaved             0\n",
       "l_df                  0\n",
       "l_svpt                0\n",
       "loser_age             0\n",
       "loser_hand            0\n",
       "loser_ht              0\n",
       "loser_id              0\n",
       "loser_ioc             0\n",
       "loser_rank            0\n",
       "loser_rank_points     0\n",
       "surface               0\n",
       "tourney_level         0\n",
       "w_1stIn               0\n",
       "w_1stWon              0\n",
       "w_2ndWon              0\n",
       "w_SvGms               0\n",
       "w_ace                 0\n",
       "w_bpFaced             0\n",
       "w_bpSaved             0\n",
       "w_df                  0\n",
       "w_svpt                0\n",
       "winner_age            0\n",
       "winner_hand           0\n",
       "winner_ht             0\n",
       "winner_id             0\n",
       "winner_ioc            0\n",
       "winner_rank           0\n",
       "winner_rank_points    0\n",
       "year                  0\n",
       "month                 0\n",
       "dtype: int64"
      ]
     },
     "execution_count": 42,
     "metadata": {},
     "output_type": "execute_result"
    }
   ],
   "source": [
    "_data.isnull().sum()"
   ]
  },
  {
   "cell_type": "markdown",
   "metadata": {},
   "source": [
    "Maintenant que toute les colonnes que j'ai selectionné sont presque propre et sans valeurs manquantes je vais enregistrer le dataframe en csv de peur que le kernel ne tombe et que je perdes toutes les infos"
   ]
  },
  {
   "cell_type": "code",
   "execution_count": 43,
   "metadata": {},
   "outputs": [],
   "source": [
    "_data.to_csv('prepared.csv', index=False)"
   ]
  },
  {
   "cell_type": "markdown",
   "metadata": {},
   "source": [
    "Maintenant on va faire du Label Encoding des données et puis faire quelques visualisations pour comprendre les distributions mais également voir s'il n'est pas possible de diminuer le nombre de variables"
   ]
  },
  {
   "cell_type": "code",
   "execution_count": 3,
   "metadata": {},
   "outputs": [
    {
     "data": {
      "text/html": [
       "<div>\n",
       "<style scoped>\n",
       "    .dataframe tbody tr th:only-of-type {\n",
       "        vertical-align: middle;\n",
       "    }\n",
       "\n",
       "    .dataframe tbody tr th {\n",
       "        vertical-align: top;\n",
       "    }\n",
       "\n",
       "    .dataframe thead th {\n",
       "        text-align: right;\n",
       "    }\n",
       "</style>\n",
       "<table border=\"1\" class=\"dataframe\">\n",
       "  <thead>\n",
       "    <tr style=\"text-align: right;\">\n",
       "      <th></th>\n",
       "      <th>Y</th>\n",
       "      <th>l_1stIn</th>\n",
       "      <th>l_1stWon</th>\n",
       "      <th>l_2ndWon</th>\n",
       "      <th>l_SvGms</th>\n",
       "      <th>l_ace</th>\n",
       "      <th>l_bpFaced</th>\n",
       "      <th>l_bpSaved</th>\n",
       "      <th>l_df</th>\n",
       "      <th>l_svpt</th>\n",
       "      <th>...</th>\n",
       "      <th>w_svpt</th>\n",
       "      <th>winner_age</th>\n",
       "      <th>winner_hand</th>\n",
       "      <th>winner_ht</th>\n",
       "      <th>winner_id</th>\n",
       "      <th>winner_ioc</th>\n",
       "      <th>winner_rank</th>\n",
       "      <th>winner_rank_points</th>\n",
       "      <th>year</th>\n",
       "      <th>month</th>\n",
       "    </tr>\n",
       "  </thead>\n",
       "  <tbody>\n",
       "    <tr>\n",
       "      <td>169685</td>\n",
       "      <td>1</td>\n",
       "      <td>47.482599</td>\n",
       "      <td>33.648684</td>\n",
       "      <td>15.920302</td>\n",
       "      <td>12.259126</td>\n",
       "      <td>5.619853</td>\n",
       "      <td>6.970677</td>\n",
       "      <td>4.170449</td>\n",
       "      <td>3.131691</td>\n",
       "      <td>79.302583</td>\n",
       "      <td>...</td>\n",
       "      <td>79.322208</td>\n",
       "      <td>33.26</td>\n",
       "      <td>R</td>\n",
       "      <td>183.000000</td>\n",
       "      <td>100121</td>\n",
       "      <td>RSA</td>\n",
       "      <td>138.0</td>\n",
       "      <td>1089.098918</td>\n",
       "      <td>1979</td>\n",
       "      <td>11</td>\n",
       "    </tr>\n",
       "    <tr>\n",
       "      <td>169686</td>\n",
       "      <td>1</td>\n",
       "      <td>47.482599</td>\n",
       "      <td>33.648684</td>\n",
       "      <td>15.920302</td>\n",
       "      <td>12.259126</td>\n",
       "      <td>5.619853</td>\n",
       "      <td>6.970677</td>\n",
       "      <td>4.170449</td>\n",
       "      <td>3.131691</td>\n",
       "      <td>79.302583</td>\n",
       "      <td>...</td>\n",
       "      <td>79.322208</td>\n",
       "      <td>30.98</td>\n",
       "      <td>R</td>\n",
       "      <td>184.175453</td>\n",
       "      <td>100081</td>\n",
       "      <td>USA</td>\n",
       "      <td>53.0</td>\n",
       "      <td>1089.098918</td>\n",
       "      <td>1975</td>\n",
       "      <td>2</td>\n",
       "    </tr>\n",
       "    <tr>\n",
       "      <td>169687</td>\n",
       "      <td>1</td>\n",
       "      <td>53.000000</td>\n",
       "      <td>33.000000</td>\n",
       "      <td>23.000000</td>\n",
       "      <td>13.000000</td>\n",
       "      <td>2.000000</td>\n",
       "      <td>13.000000</td>\n",
       "      <td>10.000000</td>\n",
       "      <td>3.000000</td>\n",
       "      <td>93.000000</td>\n",
       "      <td>...</td>\n",
       "      <td>112.000000</td>\n",
       "      <td>24.18</td>\n",
       "      <td>R</td>\n",
       "      <td>190.000000</td>\n",
       "      <td>102998</td>\n",
       "      <td>USA</td>\n",
       "      <td>22.0</td>\n",
       "      <td>1265.000000</td>\n",
       "      <td>2001</td>\n",
       "      <td>8</td>\n",
       "    </tr>\n",
       "    <tr>\n",
       "      <td>169688</td>\n",
       "      <td>1</td>\n",
       "      <td>47.482599</td>\n",
       "      <td>33.648684</td>\n",
       "      <td>15.920302</td>\n",
       "      <td>12.259126</td>\n",
       "      <td>5.619853</td>\n",
       "      <td>6.970677</td>\n",
       "      <td>4.170449</td>\n",
       "      <td>3.131691</td>\n",
       "      <td>79.302583</td>\n",
       "      <td>...</td>\n",
       "      <td>79.322208</td>\n",
       "      <td>20.80</td>\n",
       "      <td>R</td>\n",
       "      <td>185.000000</td>\n",
       "      <td>100452</td>\n",
       "      <td>USA</td>\n",
       "      <td>40.0</td>\n",
       "      <td>1089.098918</td>\n",
       "      <td>1977</td>\n",
       "      <td>8</td>\n",
       "    </tr>\n",
       "    <tr>\n",
       "      <td>169689</td>\n",
       "      <td>1</td>\n",
       "      <td>37.000000</td>\n",
       "      <td>28.000000</td>\n",
       "      <td>13.000000</td>\n",
       "      <td>10.000000</td>\n",
       "      <td>10.000000</td>\n",
       "      <td>2.000000</td>\n",
       "      <td>1.000000</td>\n",
       "      <td>2.000000</td>\n",
       "      <td>57.000000</td>\n",
       "      <td>...</td>\n",
       "      <td>61.000000</td>\n",
       "      <td>32.02</td>\n",
       "      <td>R</td>\n",
       "      <td>180.000000</td>\n",
       "      <td>104655</td>\n",
       "      <td>URU</td>\n",
       "      <td>33.0</td>\n",
       "      <td>1370.000000</td>\n",
       "      <td>2018</td>\n",
       "      <td>1</td>\n",
       "    </tr>\n",
       "  </tbody>\n",
       "</table>\n",
       "<p>5 rows × 37 columns</p>\n",
       "</div>"
      ],
      "text/plain": [
       "        Y    l_1stIn   l_1stWon   l_2ndWon    l_SvGms      l_ace  l_bpFaced  \\\n",
       "169685  1  47.482599  33.648684  15.920302  12.259126   5.619853   6.970677   \n",
       "169686  1  47.482599  33.648684  15.920302  12.259126   5.619853   6.970677   \n",
       "169687  1  53.000000  33.000000  23.000000  13.000000   2.000000  13.000000   \n",
       "169688  1  47.482599  33.648684  15.920302  12.259126   5.619853   6.970677   \n",
       "169689  1  37.000000  28.000000  13.000000  10.000000  10.000000   2.000000   \n",
       "\n",
       "        l_bpSaved      l_df     l_svpt  ...      w_svpt winner_age  \\\n",
       "169685   4.170449  3.131691  79.302583  ...   79.322208      33.26   \n",
       "169686   4.170449  3.131691  79.302583  ...   79.322208      30.98   \n",
       "169687  10.000000  3.000000  93.000000  ...  112.000000      24.18   \n",
       "169688   4.170449  3.131691  79.302583  ...   79.322208      20.80   \n",
       "169689   1.000000  2.000000  57.000000  ...   61.000000      32.02   \n",
       "\n",
       "        winner_hand   winner_ht winner_id  winner_ioc  winner_rank  \\\n",
       "169685            R  183.000000    100121         RSA        138.0   \n",
       "169686            R  184.175453    100081         USA         53.0   \n",
       "169687            R  190.000000    102998         USA         22.0   \n",
       "169688            R  185.000000    100452         USA         40.0   \n",
       "169689            R  180.000000    104655         URU         33.0   \n",
       "\n",
       "       winner_rank_points  year  month  \n",
       "169685        1089.098918  1979     11  \n",
       "169686        1089.098918  1975      2  \n",
       "169687        1265.000000  2001      8  \n",
       "169688        1089.098918  1977      8  \n",
       "169689        1370.000000  2018      1  \n",
       "\n",
       "[5 rows x 37 columns]"
      ]
     },
     "execution_count": 3,
     "metadata": {},
     "output_type": "execute_result"
    }
   ],
   "source": [
    "_data = pd.read_csv('prepared.csv')\n",
    "_data.tail()"
   ]
  },
  {
   "cell_type": "code",
   "execution_count": 4,
   "metadata": {},
   "outputs": [
    {
     "data": {
      "text/plain": [
       "['loser_hand',\n",
       " 'loser_ioc',\n",
       " 'surface',\n",
       " 'tourney_level',\n",
       " 'winner_hand',\n",
       " 'winner_ioc']"
      ]
     },
     "execution_count": 4,
     "metadata": {},
     "output_type": "execute_result"
    }
   ],
   "source": [
    "encode_col = _data.select_dtypes(include=['object']).columns.tolist()\n",
    "encode_col"
   ]
  },
  {
   "cell_type": "code",
   "execution_count": 5,
   "metadata": {},
   "outputs": [],
   "source": [
    "le = preprocessing.LabelEncoder()\n",
    "for col in encode_col:\n",
    "    _data[col] = le.fit_transform(_data[col].astype(str))"
   ]
  },
  {
   "cell_type": "code",
   "execution_count": 6,
   "metadata": {},
   "outputs": [
    {
     "data": {
      "text/plain": [
       "<matplotlib.axes._subplots.AxesSubplot at 0x7f2017169e10>"
      ]
     },
     "execution_count": 6,
     "metadata": {},
     "output_type": "execute_result"
    },
    {
     "data": {
      "image/png": "[encoded data removed]",
      "text/plain": [
       "<Figure size 1440x720 with 2 Axes>"
      ]
     },
     "metadata": {},
     "output_type": "display_data"
    }
   ],
   "source": [
    "CorrMatrix = _data.corr()\n",
    "\n",
    "f, ax = plt.subplots(figsize=(20,10))\n",
    "cmap = sns.diverging_palette(220, 10, as_cmap=True)\n",
    "\n",
    "sns.heatmap(CorrMatrix, cmap=cmap, vmax=1, center=0, square=True, linewidth=.25, cbar_kws={\"shrink\": .5})"
   ]
  },
  {
   "cell_type": "code",
   "execution_count": 7,
   "metadata": {},
   "outputs": [
    {
     "data": {
      "text/plain": [
       "Y    1.0\n",
       "Name: Y, dtype: float64"
      ]
     },
     "execution_count": 7,
     "metadata": {},
     "output_type": "execute_result"
    }
   ],
   "source": [
    "# Afin de verifier qu'il n'y ait pas une correlation assez grande d'une variable par rapport à notre Y\n",
    "cor_target = abs(CorrMatrix[\"Y\"])\n",
    "relevant_features = cor_target[cor_target>0.5]\n",
    "relevant_features"
   ]
  },
  {
   "cell_type": "code",
   "execution_count": 8,
   "metadata": {},
   "outputs": [
    {
     "data": {
      "text/plain": [
       "<seaborn.axisgrid.PairGrid at 0x7f20171694a8>"
      ]
     },
     "execution_count": 8,
     "metadata": {},
     "output_type": "execute_result"
    },
    {
     "data": {
      "image/png": "[encoded data removed]",
      "text/plain": [
       "<Figure size 762.375x720 with 20 Axes>"
      ]
     },
     "metadata": {},
     "output_type": "display_data"
    }
   ],
   "source": [
    "sns.pairplot(_data, hue='Y', vars=['w_ace', 'winner_age', 'winner_hand','winner_ioc'])"
   ]
  },
  {
   "cell_type": "markdown",
   "metadata": {},
   "source": [
    "## Modélisation"
   ]
  },
  {
   "cell_type": "code",
   "execution_count": 9,
   "metadata": {},
   "outputs": [],
   "source": [
    "# On commence deja par separer les X et les Y et puis splitter ces derniers en train et test sets 80/20\n",
    "y = _data['Y']\n",
    "X = _data.drop(['Y'], axis=1)\n",
    "\n",
    "X_train, X_test, y_train, y_test = train_test_split(X, y, test_size=0.2, random_state=23)"
   ]
  },
  {
   "cell_type": "markdown",
   "metadata": {},
   "source": [
    "Voila que les données sont pretes, il est temps de creer des modeles de classification binaire.\n",
    "Je testerais la régression logistique, random forest, naive bayes, Gradient boosting et XG boost.\n",
    "Je projettes également de creer un modele de Vote avec 5 algorithmes differents (nombre impaire pour éviter qu'ils soient à égalité de votes).\n",
    "Une premiere fois serait sans optimisation des parametres et une seconde serait faites suite à un GridSearchCV."
   ]
  },
  {
   "cell_type": "markdown",
   "metadata": {},
   "source": [
    "# Version sans optimisation de parametres"
   ]
  },
  {
   "cell_type": "code",
   "execution_count": 10,
   "metadata": {},
   "outputs": [
    {
     "data": {
      "text/plain": [
       "0.7855501208085333"
      ]
     },
     "execution_count": 10,
     "metadata": {},
     "output_type": "execute_result"
    }
   ],
   "source": [
    "lr = LogisticRegression(random_state=23)\n",
    "lr.fit(X_train, y_train)\n",
    "y_test_pred = lr.predict(X_test)\n",
    "accuracy_score(y_test, y_test_pred)"
   ]
  },
  {
   "cell_type": "code",
   "execution_count": 11,
   "metadata": {},
   "outputs": [
    {
     "data": {
      "text/plain": [
       "0.7561140904001414"
      ]
     },
     "execution_count": 11,
     "metadata": {},
     "output_type": "execute_result"
    }
   ],
   "source": [
    "rf = RandomForestClassifier(random_state=3)\n",
    "rf.fit(X_train, y_train)\n",
    "y_test_pred = rf.predict(X_test)\n",
    "accuracy_score(y_test, y_test_pred)"
   ]
  },
  {
   "cell_type": "code",
   "execution_count": 12,
   "metadata": {},
   "outputs": [
    {
     "data": {
      "text/plain": [
       "0.6948847899110142"
      ]
     },
     "execution_count": 12,
     "metadata": {},
     "output_type": "execute_result"
    }
   ],
   "source": [
    "gnb = GaussianNB()\n",
    "gnb.fit(X_train, y_train)\n",
    "y_test_pred = gnb.predict(X_test)\n",
    "accuracy_score(y_test, y_test_pred)"
   ]
  },
  {
   "cell_type": "code",
   "execution_count": 13,
   "metadata": {},
   "outputs": [
    {
     "data": {
      "text/plain": [
       "0.783340208615711"
      ]
     },
     "execution_count": 13,
     "metadata": {},
     "output_type": "execute_result"
    }
   ],
   "source": [
    "gbc = GradientBoostingClassifier(random_state=23)\n",
    "gbc.fit(X_train, y_train)\n",
    "y_test_pred = gbc.predict(X_test)\n",
    "accuracy_score(y_test, y_test_pred)"
   ]
  },
  {
   "cell_type": "code",
   "execution_count": 14,
   "metadata": {},
   "outputs": [
    {
     "data": {
      "text/plain": [
       "0.7796864871235782"
      ]
     },
     "execution_count": 14,
     "metadata": {},
     "output_type": "execute_result"
    }
   ],
   "source": [
    "xgb = XGBClassifier(seed=23)\n",
    "xgb.fit(X_train, y_train)\n",
    "y_test_pred = xgb.predict(X_test)\n",
    "accuracy_score(y_test, y_test_pred)"
   ]
  },
  {
   "cell_type": "code",
   "execution_count": 15,
   "metadata": {},
   "outputs": [],
   "source": [
    "model = VotingClassifier([('LogReg',lr),('RanFor',rf),('GaussNB',gnb),('GradBoost',gbc),('XGBoost',xgb)], voting='hard')"
   ]
  },
  {
   "cell_type": "code",
   "execution_count": 16,
   "metadata": {},
   "outputs": [],
   "source": [
    "model = model.fit(X_train,y_train)"
   ]
  },
  {
   "cell_type": "code",
   "execution_count": 17,
   "metadata": {},
   "outputs": [
    {
     "data": {
      "text/plain": [
       "0.7886439978784843"
      ]
     },
     "execution_count": 17,
     "metadata": {},
     "output_type": "execute_result"
    }
   ],
   "source": [
    "y_test_pred = model.predict(X_test)\n",
    "accuracy_score(y_test, y_test_pred)"
   ]
  },
  {
   "cell_type": "markdown",
   "metadata": {},
   "source": [
    "# Version avec optimisation de parametres (GridSearchCV)"
   ]
  },
  {
   "cell_type": "code",
   "execution_count": null,
   "metadata": {},
   "outputs": [],
   "source": [
    "params_lr = {\"C\":pd.np.logspace(-2,2,5), \"penalty\":[\"l1\",\"l2\"]}\n",
    "lr_gs = GridSearchCV(lr, params_lr, cv=5)\n",
    "lr_gs.fit(X_train, y_train)\n",
    "y_test_pred = lr_gs.predict(X_test)\n",
    "accuracy_score(y_test, y_test_pred)"
   ]
  },
  {
   "cell_type": "code",
   "execution_count": null,
   "metadata": {},
   "outputs": [],
   "source": [
    "params_rf = {'n_estimators': [200, 500],'max_features': ['auto', 'sqrt', 'log2'],\n",
    "             'max_depth' : [4,5,6,7,8], 'criterion' :['gini', 'entropy']}\n",
    "rf_gs = GridSearchCV(rf, params_rf, cv=5)\n",
    "rf_gs.fit(X_train, y_train)\n",
    "y_test_pred = rf_gs.predict(X_test)\n",
    "accuracy_score(y_test, y_test_pred)"
   ]
  },
  {
   "cell_type": "code",
   "execution_count": null,
   "metadata": {},
   "outputs": [],
   "source": [
    "params_gbc = {\"learning_rate\": [0.01, 0.05, 0.075, 0.1], \"n_estimators\":[10]}\n",
    "gbc_gs = GridSearchCV(gbc, params_gbc, cv=5)\n",
    "gbc_gs.fit(X_train, y_train)\n",
    "y_test_pred = gbc_gs.predict(X_test)\n",
    "accuracy_score(y_test, y_test_pred)"
   ]
  },
  {
   "cell_type": "code",
   "execution_count": null,
   "metadata": {},
   "outputs": [],
   "source": [
    "params_xgb = {'min_child_weight': [1, 5, 10],'gamma': [0.5, 1, 1.5, 2, 5],'subsample': [0.6, 0.8, 1.0],\n",
    "          'colsample_bytree': [0.6, 0.8, 1.0],'max_depth': [3, 4, 5]}\n",
    "xgb_gs = GridSearchCV(xgb, params_xgb, cv=5)\n",
    "xgb_gs.fit(X_train, y_train)\n",
    "y_test_pred = xgb_gs.predict(X_test)\n",
    "accuracy_score(y_test, y_test_pred)"
   ]
  },
  {
   "cell_type": "code",
   "execution_count": null,
   "metadata": {},
   "outputs": [],
   "source": [
    "model_gs = VotingClassifier([('LogReg',lr_gs),('RanFor',rf_gs),('GaussNB',gnb),\n",
    "                             ('GradBoost',gbc_gs),('XGBoost',xgb_gs)], voting='hard')"
   ]
  },
  {
   "cell_type": "code",
   "execution_count": null,
   "metadata": {},
   "outputs": [],
   "source": [
    "model_gs = model_gs.fit(X_train,y_train)"
   ]
  },
  {
   "cell_type": "code",
   "execution_count": null,
   "metadata": {},
   "outputs": [],
   "source": [
    "y_test_pred = model_gs.predict(X_test)\n",
    "accuracy_score(y_test, y_test_pred)"
   ]
  }
 ],
 "metadata": {
  "kernelspec": {
   "display_name": "Python 3",
   "language": "python",
   "name": "python3"
  },
  "language_info": {
   "codemirror_mode": {
    "name": "ipython",
    "version": 3
   },
   "file_extension": ".py",
   "mimetype": "text/x-python",
   "name": "python",
   "nbconvert_exporter": "python",
   "pygments_lexer": "ipython3",
   "version": "3.6.8"
  }
 },
 "nbformat": 4,
 "nbformat_minor": 2
}
